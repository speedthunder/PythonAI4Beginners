{
  "nbformat": 4,
  "nbformat_minor": 0,
  "metadata": {
    "colab": {
      "provenance": [],
      "include_colab_link": true
    },
    "kernelspec": {
      "name": "python3",
      "display_name": "Python 3"
    },
    "language_info": {
      "name": "python"
    }
  },
  "cells": [
    {
      "cell_type": "markdown",
      "metadata": {
        "id": "view-in-github",
        "colab_type": "text"
      },
      "source": [
        "<a href=\"https://colab.research.google.com/github/speedthunder/PythonAI4Beginners/blob/main/%E7%AC%AC%E5%9B%9B%E9%80%B1_%E8%81%8A%E5%A4%A9%E6%A9%9F%E5%99%A8%E4%BA%BA_%E8%8B%B1%E6%96%87%E6%96%87%E7%AB%A0%E5%96%AE%E5%AD%97%E5%8F%8A%E6%96%87%E6%B3%95%E8%A7%A3%E9%87%8B.ipynb\" target=\"_parent\"><img src=\"https://colab.research.google.com/assets/colab-badge.svg\" alt=\"Open In Colab\"/></a>"
      ]
    },
    {
      "cell_type": "markdown",
      "source": [
        "https://ai.google.dev/\n",
        "\n",
        "https://ai.google.dev/gemini-api/docs/quickstart?lang=python"
      ],
      "metadata": {
        "id": "FzAHtzePPM_a"
      }
    },
    {
      "cell_type": "code",
      "execution_count": 1,
      "metadata": {
        "id": "tioEPqr0O13e"
      },
      "outputs": [],
      "source": [
        "from google.colab import userdata\n",
        "apikey = userdata.get('GOOGLE_API_KEY')"
      ]
    },
    {
      "cell_type": "code",
      "source": [
        "import google.generativeai as genai\n",
        "genai.configure(api_key = apikey)\n",
        "model = genai.GenerativeModel(\"gemini-1.5-flash\")"
      ],
      "metadata": {
        "collapsed": true,
        "id": "CbU4hRQO5NYJ"
      },
      "execution_count": 2,
      "outputs": []
    },
    {
      "cell_type": "code",
      "source": [
        "def translate_text2(text):\n",
        "    response = f\"zh-hant,Markdown response,角色=英文老師,依下列要求做出回應:\\n1.將句子單字翻譯再說明解釋\\n2.將句子的文法詳加說明\\n3.給一個相同文法的例句,是否清楚.\"\n",
        "    prompt = f\"以下句字解析為 {response}: {text}\"\n",
        "    response = model.generate_content(prompt)\n",
        "    return response.text"
      ],
      "metadata": {
        "id": "3enBqq48N80F"
      },
      "execution_count": 3,
      "outputs": []
    },
    {
      "cell_type": "code",
      "source": [
        "if __name__ == \"__main__\":\n",
        "    while True:\n",
        "        user_input = input(\"輸入要解析的英文內容: \")\n",
        "        if user_input.lower() == \"exit\":\n",
        "            print(\"再見!\")\n",
        "            break\n",
        "        else:\n",
        "            print(translate_text2(user_input))"
      ],
      "metadata": {
        "colab": {
          "base_uri": "https://localhost:8080/"
        },
        "id": "D0v2aZaQF1d4",
        "outputId": "efc84eaf-caca-40bd-a5fd-205bf74a023d"
      },
      "execution_count": 14,
      "outputs": [
        {
          "output_type": "stream",
          "name": "stdout",
          "text": [
            "輸入要解析的英文內容: exit\n",
            "再見!\n"
          ]
        }
      ]
    },
    {
      "cell_type": "markdown",
      "source": [
        "Water Rationing Scheduled for Next Tuesday  We would like to bring to your attention that there will be water rationing in our office premises next Tuesday, from 0800 to 1900. This will affect our water supply throughout the day. Please take note and make the necessary preparations. Actions for the Team: Bring Personal Water Bottles: It's advisable for everyone to bring their own filled water bottles from home to ensure they have enough drinking water for the day. Limit Toilet Use: If possible, use the restroom before coming to the office. We understand this might not be feasible for all, but it helps in conserving the limited water we'll have. Water Dispensers: We will be placing temporary water dispen"
      ],
      "metadata": {
        "id": "xZZKYryuLu2d"
      }
    }
  ]
}