{
  "nbformat": 4,
  "nbformat_minor": 0,
  "metadata": {
    "colab": {
      "provenance": [],
      "authorship_tag": "ABX9TyPI+sw1HwurzdFJxzhZmXzy",
      "include_colab_link": true
    },
    "kernelspec": {
      "name": "python3",
      "display_name": "Python 3"
    },
    "language_info": {
      "name": "python"
    }
  },
  "cells": [
    {
      "cell_type": "markdown",
      "metadata": {
        "id": "view-in-github",
        "colab_type": "text"
      },
      "source": [
        "<a href=\"https://colab.research.google.com/github/speedthunder/PythonAI4Beginners/blob/main/hw1_test.ipynb\" target=\"_parent\"><img src=\"https://colab.research.google.com/assets/colab-badge.svg\" alt=\"Open In Colab\"/></a>"
      ]
    },
    {
      "cell_type": "markdown",
      "source": [
        "我想要定義一個自己創作出來的函式\n",
        "\n",
        "功能包含：\n",
        "\n",
        "\n",
        "1.可判斷是否為數字\n",
        "\n",
        "\n",
        "    1-1.若為數字,則將對應的等第輸出\n",
        "\n",
        "\n",
        "2.若不為數字則回應這是非數字,無法處理\n",
        "\n",
        "\n"
      ],
      "metadata": {
        "id": "wnmxsMeUnkgk"
      }
    },
    {
      "cell_type": "markdown",
      "source": [],
      "metadata": {
        "id": "Pbdtlv-joJ5O"
      }
    },
    {
      "cell_type": "code",
      "execution_count": 1,
      "metadata": {
        "id": "hfByjcBknfPC"
      },
      "outputs": [],
      "source": [
        "def get_grade(score):\n",
        "    # 檢查輸入是否在合理範圍內\n",
        "    if not isinstance(score, (int, float)) or score < 0 or score > 100:\n",
        "        return '非數字,無法處理'\n",
        "    # 進行等第判斷\n",
        "    if 90 <= score <= 100:\n",
        "        return 'A+'\n",
        "    elif 85 <= score < 90:\n",
        "        return 'A'\n",
        "    elif 80 <= score < 85:\n",
        "        return 'B+'\n",
        "    elif 75 <= score < 80:\n",
        "        return 'B'\n",
        "    elif 70 <= score < 75:\n",
        "        return 'C+'\n",
        "    elif 65 <= score < 70:\n",
        "        return 'C'\n",
        "    elif 60 <= score < 65:\n",
        "        return 'D'\n",
        "    elif 0 <= score < 60:\n",
        "        return 'F'\n",
        "\n",
        "    else:\n",
        "        return '錯誤請輸入 0 ～ 100 之間的成績'"
      ]
    },
    {
      "cell_type": "markdown",
      "source": [
        "1. 自訂義函式\n",
        "2. 可將人用自然語言描述出來的邏輯轉換成 if else\n",
        "3. 會使用try except 來執行使用者輸入的非預期內容\n",
        "4. 會呼叫自定義函式"
      ],
      "metadata": {
        "id": "MZdC8UlOrkK7"
      }
    },
    {
      "cell_type": "code",
      "source": [
        "while True:\n",
        "    try:\n",
        "        score = input(\"請輸入你的成績('q'離開): \")  # 輸入一個成績並轉換為浮點數\n",
        "        if score.lower() == 'q':\n",
        "            print(\"程式結束\")\n",
        "            break\n",
        "        score = int(score)\n",
        "        response = get_grade(score)  # 根據成績獲取等第\n",
        "        print(f\"你的成績等第是 {response}。\")  # 顯示結果\n",
        "    except ValueError:\n",
        "        print(\"輸入的不是有效的數字\")"
      ],
      "metadata": {
        "colab": {
          "base_uri": "https://localhost:8080/"
        },
        "id": "OwtRjz5LpX1-",
        "outputId": "e86bd090-ef41-4d03-ad95-8628a9882ecb"
      },
      "execution_count": 6,
      "outputs": [
        {
          "output_type": "stream",
          "name": "stdout",
          "text": [
            "請輸入你的成績('q'離開): 80\n",
            "你的成績等第是 B+。\n",
            "請輸入你的成績('q'離開): 90'\n",
            "輸入的不是有效的數字\n",
            "請輸入你的成績('q'離開): 90\n",
            "你的成績等第是 A+。\n",
            "請輸入你的成績('q'離開): 100\n",
            "你的成績等第是 A+。\n",
            "請輸入你的成績('q'離開): 70\n",
            "你的成績等第是 C+。\n",
            "請輸入你的成績('q'離開): 40\n",
            "你的成績等第是 F。\n",
            "請輸入你的成績('q'離開): q\n",
            "程式結束\n"
          ]
        }
      ]
    }
  ]
}